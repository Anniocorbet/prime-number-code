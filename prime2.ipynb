{
 "cells": [
  {
   "cell_type": "code",
   "execution_count": 2,
   "metadata": {},
   "outputs": [
    {
     "name": "stdout",
     "output_type": "stream",
     "text": [
      "enter the position19\n",
      "prime 67\n"
     ]
    }
   ],
   "source": [
    "a= int(input(\"enter the position\"))\n",
    "def isPrime(n,i=2):\n",
    "    if(n<=2):\n",
    "        if n==2:\n",
    "            return True\n",
    "        else:\n",
    "            return False\n",
    "    if n%i == 0:\n",
    "            return False\n",
    "    if i*i>n:\n",
    "        return True\n",
    "        \n",
    "    return isPrime(n,i+1)\n",
    "\n",
    "if a==0:\n",
    "    print(\"invalid position\")\n",
    "else:\n",
    "    n=1\n",
    "    counter=0\n",
    "    while counter!=a:\n",
    "        n+=1    \n",
    "        if (isPrime(n)):\n",
    "            counter+=1\n",
    "        else:\n",
    "            counter=counter\n",
    "\n",
    "\n",
    "    print(\"prime\",n)"
   ]
  },
  {
   "cell_type": "code",
   "execution_count": null,
   "metadata": {},
   "outputs": [],
   "source": []
  }
 ],
 "metadata": {
  "kernelspec": {
   "display_name": "Python 3",
   "language": "python",
   "name": "python3"
  },
  "language_info": {
   "codemirror_mode": {
    "name": "ipython",
    "version": 3
   },
   "file_extension": ".py",
   "mimetype": "text/x-python",
   "name": "python",
   "nbconvert_exporter": "python",
   "pygments_lexer": "ipython3",
   "version": "3.7.1"
  }
 },
 "nbformat": 4,
 "nbformat_minor": 2
}
